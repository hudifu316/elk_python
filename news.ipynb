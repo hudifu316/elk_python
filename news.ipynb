{
 "metadata": {
  "language_info": {
   "codemirror_mode": {
    "name": "ipython",
    "version": 3
   },
   "file_extension": ".py",
   "mimetype": "text/x-python",
   "name": "python",
   "nbconvert_exporter": "python",
   "pygments_lexer": "ipython3",
   "version": "3.7.7"
  },
  "orig_nbformat": 2,
  "kernelspec": {
   "name": "python377jvsc74a57bd04c18e9c68ee5ad9d25b49b9d6e74f639f1144d751570e695dae01dca8c866bf7",
   "display_name": "Python 3.7.7 64-bit ('elk': conda)"
  }
 },
 "nbformat": 4,
 "nbformat_minor": 2,
 "cells": [
  {
   "cell_type": "code",
   "execution_count": 16,
   "metadata": {},
   "outputs": [],
   "source": [
    "import spacy\n",
    "import ndjson\n",
    "import json"
   ]
  },
  {
   "cell_type": "code",
   "execution_count": 19,
   "metadata": {},
   "outputs": [],
   "source": [
    "nlp = spacy.load('ja_ginza')\n",
    "readfile = 'bcnews20210517.jl'\n",
    "\n",
    "with open(readfile) as f:\n",
    "    data = ndjson.load(f)\n",
    "\n",
    "data_append = []\n",
    "for record in data:\n",
    "    doc = nlp(record['body'])\n",
    "    tags = [ent.text.lower() for ent in doc.ents]\n",
    "    tags = list(set(tags))\n",
    "    document = {\n",
    "        \"title\": record['title'],\n",
    "        \"body\": record[\"body\"],\n",
    "        \"date\": record[\"date\"],\n",
    "        \"link\": record[\"link\"],\n",
    "        \"tags\": tags\n",
    "    }\n",
    "    data_append.append(document)\n",
    "\n",
    "writefile = 'lstinput/bcnews20210517.json'\n",
    "with open(writefile, 'w') as f:\n",
    "    ndjson.dump(data_append, f)\n"
   ]
  },
  {
   "cell_type": "code",
   "execution_count": null,
   "metadata": {},
   "outputs": [],
   "source": []
  }
 ]
}